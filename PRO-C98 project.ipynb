{
 "cells": [
  {
   "cell_type": "code",
   "execution_count": 5,
   "id": "8c2a2076-29cb-407f-b404-6a16953da877",
   "metadata": {},
   "outputs": [
    {
     "name": "stdin",
     "output_type": "stream",
     "text": [
      "Enter the lower range:  1\n",
      "Enter the higher range:  30\n",
      "Enter number to be divided with 3\n"
     ]
    },
    {
     "name": "stdout",
     "output_type": "stream",
     "text": [
      "3\n",
      "6\n",
      "9\n",
      "12\n",
      "15\n",
      "18\n",
      "21\n",
      "24\n",
      "27\n",
      "30\n"
     ]
    }
   ],
   "source": [
    "low=int(input(\"Enter the lower range: \"))\n",
    "high=int(input(\"Enter the higher range: \"))\n",
    "num=int(input(\"Enter number to be divided with\"))\n",
    "for i in range(low,high+1):\n",
    "    if (i%num==0):\n",
    "     print(i)"
   ]
  },
  {
   "cell_type": "code",
   "execution_count": null,
   "id": "46149182-3963-4041-9e8c-84bf978001b7",
   "metadata": {},
   "outputs": [],
   "source": []
  }
 ],
 "metadata": {
  "kernelspec": {
   "display_name": "Python 3 (ipykernel)",
   "language": "python",
   "name": "python3"
  },
  "language_info": {
   "codemirror_mode": {
    "name": "ipython",
    "version": 3
   },
   "file_extension": ".py",
   "mimetype": "text/x-python",
   "name": "python",
   "nbconvert_exporter": "python",
   "pygments_lexer": "ipython3",
   "version": "3.12.0"
  }
 },
 "nbformat": 4,
 "nbformat_minor": 5
}
